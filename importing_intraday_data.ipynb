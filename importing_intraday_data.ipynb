{
  "nbformat": 4,
  "nbformat_minor": 0,
  "metadata": {
    "colab": {
      "provenance": [],
      "authorship_tag": "ABX9TyMe+H23BCvXQch8PPirRqlr",
      "include_colab_link": true
    },
    "kernelspec": {
      "name": "python3",
      "display_name": "Python 3"
    },
    "language_info": {
      "name": "python"
    }
  },
  "cells": [
    {
      "cell_type": "markdown",
      "metadata": {
        "id": "view-in-github",
        "colab_type": "text"
      },
      "source": [
        "<a href=\"https://colab.research.google.com/github/OrchidB33/Basics/blob/main/importing_intraday_data.ipynb\" target=\"_parent\"><img src=\"https://colab.research.google.com/assets/colab-badge.svg\" alt=\"Open In Colab\"/></a>"
      ]
    },
    {
      "cell_type": "code",
      "source": [
        "import requests, time"
      ],
      "metadata": {
        "id": "g0Et7rDjTrx1"
      },
      "execution_count": null,
      "outputs": []
    },
    {
      "cell_type": "code",
      "source": [
        "import pandas as pd"
      ],
      "metadata": {
        "id": "DJJUCb9CZAsP"
      },
      "execution_count": null,
      "outputs": []
    },
    {
      "cell_type": "code",
      "source": [
        "from datetime import datetime"
      ],
      "metadata": {
        "id": "cDu8IayBZCRU"
      },
      "execution_count": null,
      "outputs": []
    },
    {
      "cell_type": "code",
      "source": [
        "def datetotimestamp(date):\n",
        "    time_tuple = date.timetuple()\n",
        "    timestamp=round(time.mktime(time_tuple))\n",
        "    return timestamp\n",
        "\n",
        "date = datetime.today()\n",
        "print(datetotimestamp(date))"
      ],
      "metadata": {
        "colab": {
          "base_uri": "https://localhost:8080/"
        },
        "id": "U2Yx3EJkZEe2",
        "outputId": "d8990cd6-5ea3-4fbf-fafe-e0bf098d8133"
      },
      "execution_count": null,
      "outputs": [
        {
          "output_type": "stream",
          "name": "stdout",
          "text": [
            "1668236977\n"
          ]
        }
      ]
    },
    {
      "cell_type": "code",
      "source": [
        "def datetotimestamp(date):\n",
        "  time_tuple = date.timetuple()\n",
        "  timestamp = round(time.mktime(time_tuple))\n",
        "  return timestamp\n"
      ],
      "metadata": {
        "id": "nG6mD9sxp2ej"
      },
      "execution_count": null,
      "outputs": []
    },
    {
      "cell_type": "code",
      "source": [
        "def timestamptodate(timestamp):\n",
        "  return datetime.fromtimestamp(timestamp)\n"
      ],
      "metadata": {
        "id": "sB6jbC9bsHRt"
      },
      "execution_count": null,
      "outputs": []
    },
    {
      "cell_type": "code",
      "source": [
        "start = datetotimestamp(datetime(2022,11,11))\n",
        "end= datetotimestamp(datetime.today())\n",
        "url = 'https://priceapi.moneycontrol.com/techCharts/history?symbol=23&resolution=5&from='+str(start)+'&to='+str(end)+''\n",
        "print(url)"
      ],
      "metadata": {
        "colab": {
          "base_uri": "https://localhost:8080/"
        },
        "id": "eYDzJqjqZF1r",
        "outputId": "2c7935e4-f48e-47f7-9456-a0397c60de06"
      },
      "execution_count": null,
      "outputs": [
        {
          "output_type": "stream",
          "name": "stdout",
          "text": [
            "https://priceapi.moneycontrol.com/techCharts/history?symbol=23&resolution=5&from=1668124800&to=1668237131\n"
          ]
        }
      ]
    },
    {
      "cell_type": "code",
      "source": [
        "resp = requests.get(url).json()\n",
        "data = pd.DataFrame(resp)\n",
        "date = []\n",
        "for dt in data['t']:\n",
        "  date.append({'Date':timestamptodate(dt)})\n",
        "\n",
        "dt = pd.DataFrame(date)\n",
        "print(dt)\n"
      ],
      "metadata": {
        "colab": {
          "base_uri": "https://localhost:8080/"
        },
        "id": "EVDt9PJhqWzV",
        "outputId": "0716ba06-ed58-4c29-899e-e27e6f6f3038"
      },
      "execution_count": null,
      "outputs": [
        {
          "output_type": "stream",
          "name": "stdout",
          "text": [
            "                  Date\n",
            "0  2022-11-11 03:45:00\n",
            "1  2022-11-11 03:50:00\n",
            "2  2022-11-11 03:55:00\n",
            "3  2022-11-11 04:00:00\n",
            "4  2022-11-11 04:05:00\n",
            "..                 ...\n",
            "71 2022-11-11 09:40:00\n",
            "72 2022-11-11 09:45:00\n",
            "73 2022-11-11 09:50:00\n",
            "74 2022-11-11 09:55:00\n",
            "75 2022-11-11 10:00:00\n",
            "\n",
            "[76 rows x 1 columns]\n"
          ]
        }
      ]
    },
    {
      "cell_type": "code",
      "source": [
        "intraday_data = pd.concat([dt,data['o'],data['h'],data['l'],data['c'], data['v']],axis=1)\\\n",
        "    .rename(columns={'o':'Open','h':'High','l':'Low','c':'Close','v':'Volume'})\n",
        "print(intraday_data)\n"
      ],
      "metadata": {
        "colab": {
          "base_uri": "https://localhost:8080/"
        },
        "id": "9XPjZmtms-Bt",
        "outputId": "7e1b3c67-444d-4ffa-ac0d-bcdf8c14f257"
      },
      "execution_count": null,
      "outputs": [
        {
          "output_type": "stream",
          "name": "stdout",
          "text": [
            "                  Date      Open      High       Low     Close  Volume\n",
            "0  2022-11-11 03:45:00  42163.40  42220.85  42070.55  42095.50       0\n",
            "1  2022-11-11 03:50:00  42099.60  42138.00  42062.45  42092.80       0\n",
            "2  2022-11-11 03:55:00  42091.80  42111.05  42065.50  42067.25       0\n",
            "3  2022-11-11 04:00:00  42066.30  42136.65  42061.20  42074.00       0\n",
            "4  2022-11-11 04:05:00  42062.00  42087.25  42031.70  42048.45       0\n",
            "..                 ...       ...       ...       ...       ...     ...\n",
            "71 2022-11-11 09:40:00  42163.10  42167.95  42132.10  42138.60       0\n",
            "72 2022-11-11 09:45:00  42137.45  42140.55  42098.25  42115.25       0\n",
            "73 2022-11-11 09:50:00  42117.50  42153.75  42091.95  42149.50       0\n",
            "74 2022-11-11 09:55:00  42147.80  42156.85  42127.75  42153.35       0\n",
            "75 2022-11-11 10:00:00  42144.85  42144.85  42144.85  42144.85       0\n",
            "\n",
            "[76 rows x 6 columns]\n"
          ]
        }
      ]
    },
    {
      "cell_type": "code",
      "source": [],
      "metadata": {
        "id": "MEeD8f-6t-s3"
      },
      "execution_count": null,
      "outputs": []
    },
    {
      "cell_type": "code",
      "source": [],
      "metadata": {
        "id": "YGq7QNigr0cV"
      },
      "execution_count": null,
      "outputs": []
    }
  ]
}